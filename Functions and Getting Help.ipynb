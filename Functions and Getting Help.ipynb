{
 "cells": [
  {
   "cell_type": "markdown",
   "id": "18241329",
   "metadata": {},
   "source": [
    "# Functions and Getting Help"
   ]
  },
  {
   "cell_type": "code",
   "execution_count": 13,
   "id": "a7ea3839",
   "metadata": {},
   "outputs": [
    {
     "name": "stdout",
     "output_type": "stream",
     "text": [
      "3.66\n"
     ]
    }
   ],
   "source": [
    "def round_to_two_places(num):\n",
    "    return round(num,2)\n",
    "print(round_to_two_places(3.6573))"
   ]
  },
  {
   "cell_type": "code",
   "execution_count": 15,
   "id": "5668370e",
   "metadata": {},
   "outputs": [
    {
     "name": "stdout",
     "output_type": "stream",
     "text": [
      "1\n"
     ]
    }
   ],
   "source": [
    "def to_smash(total_candies,n_friends=3):\n",
    "    return total_candies % n_friends\n",
    "print(to_smash(91))"
   ]
  },
  {
   "cell_type": "code",
   "execution_count": 17,
   "id": "c1a8b0ea",
   "metadata": {},
   "outputs": [
    {
     "data": {
      "text/plain": [
       "10.0"
      ]
     },
     "execution_count": 17,
     "metadata": {},
     "output_type": "execute_result"
    }
   ],
   "source": [
    "round_to_two_places(9.9999)"
   ]
  },
  {
   "cell_type": "code",
   "execution_count": 27,
   "id": "9c2bc7d3",
   "metadata": {},
   "outputs": [
    {
     "name": "stdout",
     "output_type": "stream",
     "text": [
      "5\n"
     ]
    }
   ],
   "source": [
    "def smallest_abs(a,b):\n",
    "    x=abs(a)\n",
    "    y=abs(b)\n",
    "    return min(x,y)\n",
    "print(smallest_abs(-10,5))"
   ]
  },
  {
   "cell_type": "code",
   "execution_count": 21,
   "id": "96178280",
   "metadata": {},
   "outputs": [
    {
     "name": "stdout",
     "output_type": "stream",
     "text": [
      "5\n"
     ]
    }
   ],
   "source": [
    " def f(x):\n",
    "        y=abs(x)\n",
    "        return y\n",
    "\n",
    " print(f(-5))"
   ]
  }
 ],
 "metadata": {
  "kernelspec": {
   "display_name": "Python 3 (ipykernel)",
   "language": "python",
   "name": "python3"
  },
  "language_info": {
   "codemirror_mode": {
    "name": "ipython",
    "version": 3
   },
   "file_extension": ".py",
   "mimetype": "text/x-python",
   "name": "python",
   "nbconvert_exporter": "python",
   "pygments_lexer": "ipython3",
   "version": "3.9.7"
  }
 },
 "nbformat": 4,
 "nbformat_minor": 5
}
